{
 "cells": [
  {
   "cell_type": "markdown",
   "metadata": {},
   "source": [
    "# Argentina Neuquen O&G Project"
   ]
  },
  {
   "cell_type": "markdown",
   "metadata": {},
   "source": [
    "#### INTRODUCTION"
   ]
  },
  {
   "cell_type": "markdown",
   "metadata": {},
   "source": [
    "##### My project uses a database from a public website:\n",
    "##### https://hidrocarburos.energianeuquen.gob.ar/portalgis/web/)\n",
    "\n",
    "##### This website is used as a vehicle of information between the local government of the Neuquen Province in Argentina and the public. Entities working with these data are oil companies, market analysts, economists and others working in the energy sector.\n",
    "\n",
    "#####  The data covers basic aspects of energy activities in the Neuquen Province of Argentina. The information is provided as Geodatabases which contain various files. The files that I am using are .dbs files which can be opened by Excel and also pandas and hence cleaned up using python. Most of that work was done previously but some elimination of invalid rows and simplification of choices needs to be done.\n",
    "\n",
    "##### All the information is in Spanish but some column labels have been translated to English to facilitate their identification by English speakers."
   ]
  },
  {
   "cell_type": "markdown",
   "metadata": {},
   "source": [
    "##### My objective is to build a webApp that contains infomation about the the wells drilled in the Neuquen Province. \n",
    "\n",
    "##### Information from these tables will be used by Tableau to be queried and and displayed interactively by the user. "
   ]
  },
  {
   "cell_type": "markdown",
   "metadata": {},
   "source": [
    "##### The website will also contain an interactive contour map of calculated properties based on simple physics which will come from python-matplotlib"
   ]
  },
  {
   "cell_type": "markdown",
   "metadata": {},
   "source": [
    "##### Below is the link to the tables:"
   ]
  },
  {
   "cell_type": "markdown",
   "metadata": {},
   "source": [
    "### https://github.com/ortegaorlando2/Argentina.git"
   ]
  },
  {
   "cell_type": "code",
   "execution_count": null,
   "metadata": {},
   "outputs": [],
   "source": []
  },
  {
   "cell_type": "markdown",
   "metadata": {},
   "source": [
    "### Graphical Summary of the proposal"
   ]
  },
  {
   "cell_type": "markdown",
   "metadata": {},
   "source": [
    "[![Image from Gyazo](https://i.gyazo.com/2e400a5b639255bc10a90bcb02178058.png)]"
   ]
  },
  {
   "cell_type": "markdown",
   "metadata": {},
   "source": []
  },
  {
   "cell_type": "code",
   "execution_count": 17,
   "metadata": {},
   "outputs": [],
   "source": [
    "# Dependencies\n",
    "import pandas as pd\n",
    "import csv "
   ]
  },
  {
   "cell_type": "code",
   "execution_count": null,
   "metadata": {},
   "outputs": [],
   "source": []
  },
  {
   "cell_type": "code",
   "execution_count": 20,
   "metadata": {},
   "outputs": [],
   "source": [
    "path=\"WellsSimpleIndexP.csv\""
   ]
  },
  {
   "cell_type": "code",
   "execution_count": 21,
   "metadata": {},
   "outputs": [
    {
     "data": {
      "text/html": [
       "<div>\n",
       "<style scoped>\n",
       "    .dataframe tbody tr th:only-of-type {\n",
       "        vertical-align: middle;\n",
       "    }\n",
       "\n",
       "    .dataframe tbody tr th {\n",
       "        vertical-align: top;\n",
       "    }\n",
       "\n",
       "    .dataframe thead th {\n",
       "        text-align: right;\n",
       "    }\n",
       "</style>\n",
       "<table border=\"1\" class=\"dataframe\">\n",
       "  <thead>\n",
       "    <tr style=\"text-align: right;\">\n",
       "      <th></th>\n",
       "      <th>WID</th>\n",
       "      <th>WELL_NAME</th>\n",
       "      <th>WELL_S_NAME</th>\n",
       "      <th>ELEVATION</th>\n",
       "      <th>DEPTH_m</th>\n",
       "      <th>ID_NQN</th>\n",
       "      <th>LATITUDE</th>\n",
       "      <th>LONGITUDE</th>\n",
       "      <th>F_ID</th>\n",
       "      <th>RID</th>\n",
       "      <th>Geometry_ID</th>\n",
       "      <th>OP_ID</th>\n",
       "      <th>ST_ID</th>\n",
       "      <th>FM_ID</th>\n",
       "    </tr>\n",
       "  </thead>\n",
       "  <tbody>\n",
       "    <tr>\n",
       "      <th>0</th>\n",
       "      <td>0</td>\n",
       "      <td>PEL.Nq.BoMo-14</td>\n",
       "      <td>BoMo-14</td>\n",
       "      <td>544.10</td>\n",
       "      <td>2805.0</td>\n",
       "      <td>A087</td>\n",
       "      <td>-38.14176014</td>\n",
       "      <td>-68.28363303</td>\n",
       "      <td>4</td>\n",
       "      <td>0</td>\n",
       "      <td>0</td>\n",
       "      <td>17</td>\n",
       "      <td>1</td>\n",
       "      <td>22</td>\n",
       "    </tr>\n",
       "    <tr>\n",
       "      <th>1</th>\n",
       "      <td>1</td>\n",
       "      <td>PPC.Nq.EC-2</td>\n",
       "      <td>EC-2</td>\n",
       "      <td>536.70</td>\n",
       "      <td>2607.0</td>\n",
       "      <td>A087</td>\n",
       "      <td>-37.87344702</td>\n",
       "      <td>-68.44036744</td>\n",
       "      <td>4</td>\n",
       "      <td>0</td>\n",
       "      <td>0</td>\n",
       "      <td>17</td>\n",
       "      <td>0</td>\n",
       "      <td>22</td>\n",
       "    </tr>\n",
       "    <tr>\n",
       "      <th>2</th>\n",
       "      <td>2</td>\n",
       "      <td>PPC.Nq.EC-4</td>\n",
       "      <td>EC-4</td>\n",
       "      <td>555.60</td>\n",
       "      <td>2585.0</td>\n",
       "      <td>A087</td>\n",
       "      <td>-37.95364471</td>\n",
       "      <td>-68.44760234</td>\n",
       "      <td>4</td>\n",
       "      <td>1</td>\n",
       "      <td>0</td>\n",
       "      <td>17</td>\n",
       "      <td>1</td>\n",
       "      <td>23</td>\n",
       "    </tr>\n",
       "    <tr>\n",
       "      <th>3</th>\n",
       "      <td>3</td>\n",
       "      <td>PPC.Nq.EC-7</td>\n",
       "      <td>EC-7</td>\n",
       "      <td>527.10</td>\n",
       "      <td>2451.0</td>\n",
       "      <td>A087</td>\n",
       "      <td>-37.88423618</td>\n",
       "      <td>-68.43573887</td>\n",
       "      <td>0</td>\n",
       "      <td>0</td>\n",
       "      <td>0</td>\n",
       "      <td>17</td>\n",
       "      <td>1</td>\n",
       "      <td>19</td>\n",
       "    </tr>\n",
       "    <tr>\n",
       "      <th>4</th>\n",
       "      <td>4</td>\n",
       "      <td>PPC.Nq.EC-10</td>\n",
       "      <td>EC-10</td>\n",
       "      <td>537.40</td>\n",
       "      <td>2648.0</td>\n",
       "      <td>A087</td>\n",
       "      <td>-37.96340915</td>\n",
       "      <td>-68.43183347</td>\n",
       "      <td>4</td>\n",
       "      <td>0</td>\n",
       "      <td>0</td>\n",
       "      <td>17</td>\n",
       "      <td>2</td>\n",
       "      <td>22</td>\n",
       "    </tr>\n",
       "    <tr>\n",
       "      <th>...</th>\n",
       "      <td>...</td>\n",
       "      <td>...</td>\n",
       "      <td>...</td>\n",
       "      <td>...</td>\n",
       "      <td>...</td>\n",
       "      <td>...</td>\n",
       "      <td>...</td>\n",
       "      <td>...</td>\n",
       "      <td>...</td>\n",
       "      <td>...</td>\n",
       "      <td>...</td>\n",
       "      <td>...</td>\n",
       "      <td>...</td>\n",
       "      <td>...</td>\n",
       "    </tr>\n",
       "    <tr>\n",
       "      <th>14748</th>\n",
       "      <td>14748</td>\n",
       "      <td>YPF.Nq.ChSN-615</td>\n",
       "      <td>ChSN-615</td>\n",
       "      <td>983.14</td>\n",
       "      <td>1240.0</td>\n",
       "      <td>A048</td>\n",
       "      <td>-37.30150365</td>\n",
       "      <td>-69.26024478</td>\n",
       "      <td>4</td>\n",
       "      <td>0</td>\n",
       "      <td>0</td>\n",
       "      <td>2</td>\n",
       "      <td>1</td>\n",
       "      <td>0</td>\n",
       "    </tr>\n",
       "    <tr>\n",
       "      <th>14749</th>\n",
       "      <td>14749</td>\n",
       "      <td>YPF.Nq.ChSN-633(d)</td>\n",
       "      <td>ChSN-633(d)</td>\n",
       "      <td>941.48</td>\n",
       "      <td>1275.0</td>\n",
       "      <td>A048</td>\n",
       "      <td>-37.30373585</td>\n",
       "      <td>-69.24386619</td>\n",
       "      <td>4</td>\n",
       "      <td>0</td>\n",
       "      <td>1</td>\n",
       "      <td>2</td>\n",
       "      <td>1</td>\n",
       "      <td>0</td>\n",
       "    </tr>\n",
       "    <tr>\n",
       "      <th>14750</th>\n",
       "      <td>14750</td>\n",
       "      <td>YPF.Nq.ChSN-702(h)</td>\n",
       "      <td>ChSN-702(h)</td>\n",
       "      <td>999999.00</td>\n",
       "      <td>999999.0</td>\n",
       "      <td>A048</td>\n",
       "      <td>Not reported</td>\n",
       "      <td>Not reported</td>\n",
       "      <td>8</td>\n",
       "      <td>1</td>\n",
       "      <td>2</td>\n",
       "      <td>2</td>\n",
       "      <td>10</td>\n",
       "      <td>23</td>\n",
       "    </tr>\n",
       "    <tr>\n",
       "      <th>14751</th>\n",
       "      <td>14751</td>\n",
       "      <td>YPF.Nq.ChSN-703(h)</td>\n",
       "      <td>ChSN-703(h)</td>\n",
       "      <td>999999.00</td>\n",
       "      <td>999999.0</td>\n",
       "      <td>A048</td>\n",
       "      <td>Not reported</td>\n",
       "      <td>Not reported</td>\n",
       "      <td>8</td>\n",
       "      <td>1</td>\n",
       "      <td>2</td>\n",
       "      <td>2</td>\n",
       "      <td>10</td>\n",
       "      <td>23</td>\n",
       "    </tr>\n",
       "    <tr>\n",
       "      <th>14752</th>\n",
       "      <td>14752</td>\n",
       "      <td>YPF.Nq.Lm.ia-19(I)</td>\n",
       "      <td>Lm.ia-19(I)</td>\n",
       "      <td>821.46</td>\n",
       "      <td>1368.0</td>\n",
       "      <td>A048</td>\n",
       "      <td>-37.30018238</td>\n",
       "      <td>-69.20039084</td>\n",
       "      <td>0</td>\n",
       "      <td>0</td>\n",
       "      <td>0</td>\n",
       "      <td>2</td>\n",
       "      <td>1</td>\n",
       "      <td>0</td>\n",
       "    </tr>\n",
       "  </tbody>\n",
       "</table>\n",
       "<p>14753 rows × 14 columns</p>\n",
       "</div>"
      ],
      "text/plain": [
       "         WID           WELL_NAME  WELL_S_NAME  ELEVATION   DEPTH_m ID_NQN  \\\n",
       "0          0      PEL.Nq.BoMo-14      BoMo-14     544.10    2805.0   A087   \n",
       "1          1         PPC.Nq.EC-2         EC-2     536.70    2607.0   A087   \n",
       "2          2         PPC.Nq.EC-4         EC-4     555.60    2585.0   A087   \n",
       "3          3         PPC.Nq.EC-7         EC-7     527.10    2451.0   A087   \n",
       "4          4        PPC.Nq.EC-10        EC-10     537.40    2648.0   A087   \n",
       "...      ...                 ...          ...        ...       ...    ...   \n",
       "14748  14748     YPF.Nq.ChSN-615     ChSN-615     983.14    1240.0   A048   \n",
       "14749  14749  YPF.Nq.ChSN-633(d)  ChSN-633(d)     941.48    1275.0   A048   \n",
       "14750  14750  YPF.Nq.ChSN-702(h)  ChSN-702(h)  999999.00  999999.0   A048   \n",
       "14751  14751  YPF.Nq.ChSN-703(h)  ChSN-703(h)  999999.00  999999.0   A048   \n",
       "14752  14752  YPF.Nq.Lm.ia-19(I)  Lm.ia-19(I)     821.46    1368.0   A048   \n",
       "\n",
       "           LATITUDE     LONGITUDE  F_ID  RID  Geometry_ID  OP_ID  ST_ID  FM_ID  \n",
       "0      -38.14176014  -68.28363303     4    0            0     17      1     22  \n",
       "1      -37.87344702  -68.44036744     4    0            0     17      0     22  \n",
       "2      -37.95364471  -68.44760234     4    1            0     17      1     23  \n",
       "3      -37.88423618  -68.43573887     0    0            0     17      1     19  \n",
       "4      -37.96340915  -68.43183347     4    0            0     17      2     22  \n",
       "...             ...           ...   ...  ...          ...    ...    ...    ...  \n",
       "14748  -37.30150365  -69.26024478     4    0            0      2      1      0  \n",
       "14749  -37.30373585  -69.24386619     4    0            1      2      1      0  \n",
       "14750  Not reported  Not reported     8    1            2      2     10     23  \n",
       "14751  Not reported  Not reported     8    1            2      2     10     23  \n",
       "14752  -37.30018238  -69.20039084     0    0            0      2      1      0  \n",
       "\n",
       "[14753 rows x 14 columns]"
      ]
     },
     "execution_count": 21,
     "metadata": {},
     "output_type": "execute_result"
    }
   ],
   "source": [
    "Wells = pd.read_csv(path)\n",
    "Wells = pd.DataFrame(Wells).dropna()\n",
    "Wells"
   ]
  },
  {
   "cell_type": "markdown",
   "metadata": {},
   "source": []
  },
  {
   "cell_type": "markdown",
   "metadata": {},
   "source": []
  },
  {
   "cell_type": "markdown",
   "metadata": {},
   "source": [
    "# Proposal Split \n"
   ]
  },
  {
   "cell_type": "markdown",
   "metadata": {},
   "source": [
    "### 1) Tableau to guide user insights about this hydrocarbon-rich area of the world"
   ]
  },
  {
   "cell_type": "markdown",
   "metadata": {},
   "source": [
    "##### a) Based on csv(s) already cleaned in ETL project"
   ]
  },
  {
   "cell_type": "code",
   "execution_count": null,
   "metadata": {},
   "outputs": [],
   "source": [
    "##### a) Based on csv(s) already cleaned in ETL project"
   ]
  },
  {
   "cell_type": "code",
   "execution_count": null,
   "metadata": {},
   "outputs": [],
   "source": []
  },
  {
   "cell_type": "markdown",
   "metadata": {},
   "source": [
    "### 2) Machine learning to predict the probability of finding oil based on depth in the subsurface, latitude and longitude provided by the user and deliver a call for action (OPTION 1)"
   ]
  },
  {
   "cell_type": "markdown",
   "metadata": {},
   "source": [
    "##### a) Based on csv(s) already cleaned in ETL project"
   ]
  },
  {
   "cell_type": "code",
   "execution_count": null,
   "metadata": {},
   "outputs": [],
   "source": [
    "##### a) Based on csv(s) already cleaned in ETL project"
   ]
  },
  {
   "cell_type": "code",
   "execution_count": null,
   "metadata": {},
   "outputs": [],
   "source": []
  },
  {
   "cell_type": "code",
   "execution_count": null,
   "metadata": {},
   "outputs": [],
   "source": [
    "#### b) Jupyter Notebook for Machine Learning (may be more than 1)"
   ]
  },
  {
   "cell_type": "code",
   "execution_count": null,
   "metadata": {},
   "outputs": [],
   "source": []
  },
  {
   "cell_type": "code",
   "execution_count": null,
   "metadata": {},
   "outputs": [],
   "source": [
    "import pandas as pd\n",
    "import datetime\n",
    "import time\n",
    "import pickle\n",
    "import numpy as np\n",
    "\n",
    "class ModelHelper():\n",
    "    def __init__(self):\n",
    "        pass\n",
    "\n",
    "    def makePredictions(self, sex_flag, age, fare, familySize, pclass, embarked):\n",
    "        pclass_1 = 0\n",
    "        pclass_2 = 0\n",
    "        pclass_3 = 0\n",
    "\n",
    "        embarked_c = 0\n",
    "        embarked_q = 0\n",
    "        embarked_s = 0\n",
    "\n",
    "        # parse pclass\n",
    "        if (pclass == 1):\n",
    "            pclass_1 = 1\n",
    "        elif (pclass == 2):\n",
    "            pclass_2 = 1\n",
    "        elif (pclass == 3):\n",
    "            pclass_3 = 1\n",
    "        else:\n",
    "            pass\n",
    "\n",
    "        # parse embarked\n",
    "        if (embarked == \"C\"):\n",
    "            embarked_c = 1\n",
    "        elif (embarked == \"Q\"):\n",
    "            embarked_q = 1\n",
    "        elif (embarked == \"S\"):\n",
    "            embarked_s = 1\n",
    "        else:\n",
    "            pass\n",
    "\n",
    "        input_pred = [[sex_flag, age, fare, familySize, pclass_1, pclass_2, pclass_3, embarked_c, embarked_q, embarked_s]]\n",
    "\n",
    "\n",
    "        filename = 'finalized_model.sav'\n",
    "        ada_load = pickle.load(open(filename, 'rb'))\n",
    "\n",
    "        X = np.array(input_pred)\n",
    "        preds = ada_load.predict_proba(X)\n",
    "        preds_singular = ada_load.predict(X)\n",
    "\n",
    "        return preds_singular[0]\n"
   ]
  },
  {
   "cell_type": "markdown",
   "metadata": {},
   "source": [
    "### 3) Full stack web application (flask) hosted on Heroku. This application will be powered by live AI serving customized user prediction. It will also tell an interactive story using Tableau."
   ]
  },
  {
   "cell_type": "markdown",
   "metadata": {},
   "source": [
    "##### a) Flask will be like"
   ]
  },
  {
   "cell_type": "code",
   "execution_count": null,
   "metadata": {},
   "outputs": [],
   "source": [
    "from flask import Flask, render_template, jsonify, send_from_directory, request\n",
    "import json\n",
    "import pandas as pd\n",
    "import numpy as np\n",
    "import os\n",
    "from modelHelper import ModelHelper\n",
    "\n",
    "#init app and class\n",
    "app = Flask(__name__)\n",
    "app.config['SEND_FILE_MAX_AGE_DEFAULT'] = 0\n",
    "modelHelper = ModelHelper()\n",
    "\n",
    "#endpoint\n",
    "# Favicon\n",
    "@app.route('/favicon.ico')\n",
    "def favicon():\n",
    "    return send_from_directory(os.path.join(app.root_path, 'static'),\n",
    "                          'favicon.ico',mimetype='image/vnd.microsoft.icon')\n",
    "\n",
    "# Route to render index.html template\n",
    "@app.route(\"/\")\n",
    "def home():\n",
    "    # Return template and data\n",
    "    return render_template(\"index.html\")\n",
    "\n",
    "@app.route(\"/makePredictions\", methods=[\"POST\"])\n",
    "def makePredictions():\n",
    "    content = request.json[\"data\"]\n",
    "\n",
    "    # parse\n",
    "    sex_flag = int(content[\"sex_flag\"])\n",
    "    age = float(content[\"age\"])\n",
    "    fare = float(content[\"fare\"])\n",
    "    familySize = int(content[\"familySize\"])\n",
    "    p_class = int(content[\"p_class\"])\n",
    "    embarked = content[\"embarked\"]\n",
    "\n",
    "    # #dummy data\n",
    "    # sex_flag = 1\n",
    "    # age = 25\n",
    "    # fare = 25\n",
    "    # familySize = 2\n",
    "    # p_class = 1\n",
    "    # embarked = \"C\"\n",
    "\n",
    "    prediction = modelHelper.makePredictions(sex_flag, age, fare, familySize, p_class, embarked)\n",
    "    print(prediction)\n",
    "    return(jsonify({\"ok\": True, \"prediction\": str(prediction)}))\n",
    "\n",
    "####################################\n",
    "# ADD MORE ENDPOINTS\n",
    "\n",
    "###########################################\n",
    "\n",
    "#############################################################\n",
    "\n",
    "@app.after_request\n",
    "def add_header(r):\n",
    "    \"\"\"\n",
    "    Add headers to both force latest IE rendering engine or Chrome Frame,\n",
    "    and also to cache the rendered page for 10 minutes.\n",
    "    \"\"\"\n",
    "    r.headers['X-UA-Compatible'] = 'IE=Edge,chrome=1'\n",
    "    r.headers[\"Cache-Control\"] = \"no-cache, no-store, must-revalidate, public, max-age=0\"\n",
    "    r.headers[\"Pragma\"] = \"no-cache\"\n",
    "    r.headers[\"Expires\"] = \"0\"\n",
    "    return r\n",
    "\n",
    "#main\n",
    "if __name__ == \"__main__\":\n",
    "    app.run(debug=True)"
   ]
  },
  {
   "cell_type": "markdown",
   "metadata": {},
   "source": [
    "## Contour maps done in matplotlib like this (OPTION 2... prelim approved by TAs)"
   ]
  },
  {
   "cell_type": "code",
   "execution_count": null,
   "metadata": {},
   "outputs": [],
   "source": [
    "import pandas as pd\n",
    "import numpy as np\n",
    "data_url = 'https://raw.githubusercontent.com/alexmill/website_notebooks/master/data/data_3d_contour.csv'\n",
    "contour_data = pd.read_csv(data_url)\n",
    "contour_data.head()\n",
    "\n",
    "import numpy as np\n",
    "\n",
    "Z = contour_data.pivot_table(index='x', columns='y', values='z').T.values\n",
    "\n",
    "X_unique = np.sort(contour_data.x.unique())\n",
    "Y_unique = np.sort(contour_data.y.unique())\n",
    "X, Y = np.meshgrid(X_unique, Y_unique)\n",
    "\n",
    "pd.DataFrame(Z).round(3)\n",
    "\n",
    "X_unique,Y_unique\n",
    "\n",
    "(array([0.      , 0.19897 , 0.349485, 0.5     , 0.69897 , 0.849485, 1.      ]),\n",
    " array([0.        , 0.26315789, 0.52631579, 0.63157895, 0.73684211, 0.84210526, 0.94736842, 1.        ]))\n",
    "\n",
    "pd.DataFrame(X).round(3)\n",
    "pd.DataFrame(Y).round(3)\n",
    "\n",
    "from IPython.display import set_matplotlib_formats\n",
    "%matplotlib inline\n",
    "set_matplotlib_formats('svg')\n",
    "\n",
    "import matplotlib.pyplot as plt\n",
    "from matplotlib import rcParams\n",
    "\n",
    "\n",
    "# Initialize plot objects\n",
    "rcParams['figure.figsize'] = 5, 5 # sets plot size\n",
    "fig = plt.figure()\n",
    "ax = fig.add_subplot(111)\n",
    "\n",
    "# Generate a contour plot\n",
    "cp = ax.contour(X, Y, Z)\n",
    "\n",
    "# Initialize plot objects\n",
    "rcParams['figure.figsize'] = 5, 5 # sets plot size\n",
    "fig = plt.figure()\n",
    "ax = fig.add_subplot(111)\n",
    "\n",
    "# Define levels in z-axis where we want lines to appear\n",
    "levels = np.array([-0.4,-0.2,0,0.2,0.4])\n",
    "\n",
    "# Generate a color mapping of the levels we've specified\n",
    "import matplotlib.cm as cm # matplotlib's color map library\n",
    "cpf = ax.contourf(X,Y,Z, len(levels), cmap=cm.Reds)\n",
    "\n",
    "# Set all level lines to black\n",
    "line_colors = ['black' for l in cpf.levels]\n",
    "\n",
    "# Make plot and customize axes\n",
    "cp = ax.contour(X, Y, Z, levels=levels, colors=line_colors)\n",
    "ax.clabel(cp, fontsize=10, colors=line_colors)\n",
    "plt.xticks([0,0.5,1])\n",
    "plt.yticks([0,0.5,1])\n",
    "ax.set_xlabel('X-axis')\n",
    "_ = ax.set_ylabel('Y-axis')\n",
    "#plt.savefig('figure.pdf') # uncomment to save vector/high-res version\n",
    "\n"
   ]
  },
  {
   "cell_type": "markdown",
   "metadata": {},
   "source": [
    "#### c) Theme with botswatch"
   ]
  },
  {
   "cell_type": "markdown",
   "metadata": {},
   "source": [
    "## javascript will look like this"
   ]
  },
  {
   "cell_type": "code",
   "execution_count": null,
   "metadata": {},
   "outputs": [],
   "source": [
    "$(document).ready(function() {\n",
    "    console.log(\"Page Loaded\");\n",
    "\n",
    "    $(\"#filter\").click(function() {\n",
    "        makePredictions();\n",
    "    });\n",
    "});\n",
    "\n",
    "// call Flask API endpoint\n",
    "function makePredictions() {\n",
    "    var sex_flag = $(\"#gender\").val();\n",
    "    var age = $(\"#age\").val();\n",
    "    var fare = $(\"#fare\").val();\n",
    "    var familySize = $(\"#familySize\").val();\n",
    "    var p_class = $(\"#pclass\").val();\n",
    "    var embarked = $(\"#embarked\").val();\n",
    "\n",
    "    // create the payload\n",
    "    var payload = {\n",
    "        \"sex_flag\": sex_flag,\n",
    "        \"age\": age,\n",
    "        \"fare\": fare,\n",
    "        \"familySize\": familySize,\n",
    "        \"p_class\": p_class,\n",
    "        \"embarked\": embarked\n",
    "    }\n",
    "\n",
    "    // Perform a POST request to the query URL\n",
    "    $.ajax({\n",
    "        type: \"POST\",\n",
    "        url: \"/makePredictions\",\n",
    "        contentType: 'application/json;charset=UTF-8',\n",
    "        data: JSON.stringify({ \"data\": payload }),\n",
    "        success: function(returnedData) {\n",
    "            // print it\n",
    "            console.log(returnedData);\n",
    "\n",
    "            if (returnedData[\"prediction\"] == 1) {\n",
    "                $(\"#output\").text(\"You Survived!\");\n",
    "            } else {\n",
    "                $(\"#output\").text(\"You Died!\");\n",
    "            }\n",
    "        },\n",
    "        error: function(XMLHttpRequest, textStatus, errorThrown) {\n",
    "            alert(\"Status: \" + textStatus);\n",
    "            alert(\"Error: \" + errorThrown);\n",
    "        }\n",
    "    });\n",
    "\n",
    "}\n"
   ]
  },
  {
   "cell_type": "code",
   "execution_count": null,
   "metadata": {},
   "outputs": [],
   "source": []
  },
  {
   "cell_type": "markdown",
   "metadata": {},
   "source": [
    "### 4) Essay about the geological interpretation based on the data"
   ]
  },
  {
   "cell_type": "markdown",
   "metadata": {},
   "source": [
    "##### a) I am familiar with this area and data but still learning as they adapt to new realities and change strategies"
   ]
  },
  {
   "cell_type": "markdown",
   "metadata": {},
   "source": [
    "...\n",
    "blah\n",
    "\n",
    "\n",
    "blah."
   ]
  },
  {
   "cell_type": "markdown",
   "metadata": {},
   "source": [
    "#### Full Analytical Writeup (Optional Executive Summary) + Works Cited"
   ]
  },
  {
   "cell_type": "markdown",
   "metadata": {},
   "source": [
    "### 5) Presentation Slide Deck"
   ]
  },
  {
   "cell_type": "markdown",
   "metadata": {},
   "source": [
    "### 6) Deployment to Heroku"
   ]
  },
  {
   "cell_type": "markdown",
   "metadata": {},
   "source": [
    "#### a) Procfile will look like this"
   ]
  },
  {
   "cell_type": "code",
   "execution_count": 7,
   "metadata": {},
   "outputs": [],
   "source": [
    "web: gunicorn app:app"
   ]
  },
  {
   "cell_type": "markdown",
   "metadata": {},
   "source": [
    "#### b) Requirements.txt will look like this:"
   ]
  },
  {
   "cell_type": "code",
   "execution_count": null,
   "metadata": {},
   "outputs": [],
   "source": [
    "certifi==2020.12.5\n",
    "click==7.1.2\n",
    "Flask==1.1.2\n",
    "gunicorn==20.0.4\n",
    "itsdangerous==1.1.0\n",
    "Jinja2==2.11.3\n",
    "joblib==1.0.1\n",
    "MarkupSafe==1.1.1\n",
    "numpy==1.19.5\n",
    "pandas==1.1.5\n",
    "python-dateutil==2.8.1\n",
    "pytz==2021.1\n",
    "scikit-learn==0.23.2\n",
    "scipy==1.5.4\n",
    "six==1.15.0\n",
    "threadpoolctl==2.1.0\n",
    "Werkzeug==1.0.1\n",
    "wincertstore==0.2\n"
   ]
  },
  {
   "cell_type": "markdown",
   "metadata": {},
   "source": [
    "#### c) Templates will look like this:"
   ]
  },
  {
   "cell_type": "code",
   "execution_count": null,
   "metadata": {},
   "outputs": [],
   "source": [
    "index.html"
   ]
  },
  {
   "cell_type": "markdown",
   "metadata": {},
   "source": [
    "### 7) Upload to github"
   ]
  },
  {
   "cell_type": "code",
   "execution_count": null,
   "metadata": {},
   "outputs": [],
   "source": []
  },
  {
   "cell_type": "code",
   "execution_count": null,
   "metadata": {},
   "outputs": [],
   "source": []
  }
 ],
 "metadata": {
  "kernelspec": {
   "display_name": "Python 3",
   "language": "python",
   "name": "python3"
  },
  "language_info": {
   "codemirror_mode": {
    "name": "ipython",
    "version": 3
   },
   "file_extension": ".py",
   "mimetype": "text/x-python",
   "name": "python",
   "nbconvert_exporter": "python",
   "pygments_lexer": "ipython3",
   "version": "3.8.3"
  }
 },
 "nbformat": 4,
 "nbformat_minor": 5
}
