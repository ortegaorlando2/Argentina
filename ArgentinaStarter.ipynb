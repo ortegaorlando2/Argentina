{
 "cells": [
  {
   "cell_type": "markdown",
   "metadata": {},
   "source": [
    "# Argentina Neuquen O&G Project"
   ]
  },
  {
   "cell_type": "markdown",
   "metadata": {},
   "source": [
    "#### INTRODUCTION"
   ]
  },
  {
   "cell_type": "markdown",
   "metadata": {},
   "source": [
    "##### My project uses a database from a public website:\n",
    "##### https://hidrocarburos.energianeuquen.gob.ar/portalgis/web/)\n",
    "\n",
    "##### This website is used as a vehicle of information between the local government of the Neuquen Province in Argentina and the public. Entities working with these data are oil companies, market analysts, economists and others working in the energy sector.\n",
    "\n",
    "#####  The data covers basic aspects of energy activities in the Neuquen Province of Argentina. The information is provided as Geodatabases which contain various files. The files that I am using are .dbs files which can be opened by Excel and also pandas and hence cleaned up using python. Most of that work was done previously but some elimination of invalid rows and simplification of choices needs to be done.\n",
    "\n",
    "##### All the information is in Spanish but some column labels have been translated to English to facilitate their identification by English speakers."
   ]
  },
  {
   "cell_type": "markdown",
   "metadata": {},
   "source": [
    "##### My objective is to build a webApp that contains infomation about the the wells drilled in the Neuquen Province. \n",
    "\n",
    "##### Information from these tables will be used by Tableau to be queried and and displayed interactively by the user. "
   ]
  },
  {
   "cell_type": "markdown",
   "metadata": {},
   "source": [
    "##### The website will also contain an interactive contour map of calculated properties based on simple physics which will come from python-matplotlib"
   ]
  },
  {
   "cell_type": "markdown",
   "metadata": {},
   "source": [
    "##### Below are examples of the tables:"
   ]
  },
  {
   "cell_type": "code",
   "execution_count": null,
   "metadata": {},
   "outputs": [],
   "source": []
  },
  {
   "cell_type": "markdown",
   "metadata": {},
   "source": [
    "[![Image from Gyazo](https://i.gyazo.com/2e400a5b639255bc10a90bcb02178058.png)]"
   ]
  },
  {
   "cell_type": "markdown",
   "metadata": {},
   "source": []
  },
  {
   "cell_type": "code",
   "execution_count": 5,
   "metadata": {},
   "outputs": [],
   "source": [
    "# Dependencies\n",
    "import pandas as pd\n",
    "import csv "
   ]
  },
  {
   "cell_type": "code",
   "execution_count": null,
   "metadata": {},
   "outputs": [],
   "source": []
  },
  {
   "cell_type": "code",
   "execution_count": 6,
   "metadata": {},
   "outputs": [],
   "source": [
    "path=\"../ContractSimple.csv\""
   ]
  },
  {
   "cell_type": "code",
   "execution_count": 10,
   "metadata": {},
   "outputs": [
    {
     "data": {
      "text/html": [
       "<div>\n",
       "<style scoped>\n",
       "    .dataframe tbody tr th:only-of-type {\n",
       "        vertical-align: middle;\n",
       "    }\n",
       "\n",
       "    .dataframe tbody tr th {\n",
       "        vertical-align: top;\n",
       "    }\n",
       "\n",
       "    .dataframe thead th {\n",
       "        text-align: right;\n",
       "    }\n",
       "</style>\n",
       "<table border=\"1\" class=\"dataframe\">\n",
       "  <thead>\n",
       "    <tr style=\"text-align: right;\">\n",
       "      <th></th>\n",
       "      <th>CONTRACT_TYPE</th>\n",
       "      <th>INDEX2</th>\n",
       "    </tr>\n",
       "  </thead>\n",
       "  <tbody>\n",
       "    <tr>\n",
       "      <th>0</th>\n",
       "      <td>CONCESION DE EXPLOTACION NO CONVENCIONAL</td>\n",
       "      <td>3.0</td>\n",
       "    </tr>\n",
       "    <tr>\n",
       "      <th>1</th>\n",
       "      <td>CONCESION DE EXPLOTACION</td>\n",
       "      <td>1.0</td>\n",
       "    </tr>\n",
       "    <tr>\n",
       "      <th>2</th>\n",
       "      <td>PERMISO DE EXPLORACION NO CONVENCIONAL</td>\n",
       "      <td>7.0</td>\n",
       "    </tr>\n",
       "    <tr>\n",
       "      <th>3</th>\n",
       "      <td>SIN CONTRATO</td>\n",
       "      <td>10.0</td>\n",
       "    </tr>\n",
       "    <tr>\n",
       "      <th>4</th>\n",
       "      <td>REVERSION</td>\n",
       "      <td>9.0</td>\n",
       "    </tr>\n",
       "    <tr>\n",
       "      <th>5</th>\n",
       "      <td>LOTE DE EXPLOTACION</td>\n",
       "      <td>5.0</td>\n",
       "    </tr>\n",
       "    <tr>\n",
       "      <th>6</th>\n",
       "      <td>LOTE BAJO EVALUACION</td>\n",
       "      <td>4.0</td>\n",
       "    </tr>\n",
       "    <tr>\n",
       "      <th>7</th>\n",
       "      <td>CONCESION DE EXPLOTACION MINERA</td>\n",
       "      <td>2.0</td>\n",
       "    </tr>\n",
       "    <tr>\n",
       "      <th>8</th>\n",
       "      <td>PRESTACION DE SERVICIO</td>\n",
       "      <td>8.0</td>\n",
       "    </tr>\n",
       "    <tr>\n",
       "      <th>9</th>\n",
       "      <td>PERMISO DE EXPLORACION</td>\n",
       "      <td>6.0</td>\n",
       "    </tr>\n",
       "  </tbody>\n",
       "</table>\n",
       "</div>"
      ],
      "text/plain": [
       "                              CONTRACT_TYPE  INDEX2\n",
       "0  CONCESION DE EXPLOTACION NO CONVENCIONAL     3.0\n",
       "1                  CONCESION DE EXPLOTACION     1.0\n",
       "2    PERMISO DE EXPLORACION NO CONVENCIONAL     7.0\n",
       "3                              SIN CONTRATO    10.0\n",
       "4                                 REVERSION     9.0\n",
       "5                       LOTE DE EXPLOTACION     5.0\n",
       "6                      LOTE BAJO EVALUACION     4.0\n",
       "7           CONCESION DE EXPLOTACION MINERA     2.0\n",
       "8                    PRESTACION DE SERVICIO     8.0\n",
       "9                    PERMISO DE EXPLORACION     6.0"
      ]
     },
     "execution_count": 10,
     "metadata": {},
     "output_type": "execute_result"
    }
   ],
   "source": [
    "Areas = pd.read_csv(path)\n",
    "Areas = pd.DataFrame(Areas).dropna()\n",
    "Areas"
   ]
  },
  {
   "cell_type": "markdown",
   "metadata": {},
   "source": []
  },
  {
   "cell_type": "markdown",
   "metadata": {},
   "source": [
    "Project Proposal:\n",
    "\n",
    "Project Proposal is due by end-of-class Wednesday.\n",
    "\n",
    "It needs to include:\n",
    "\n",
    "Your dataset (include link)\n",
    "What you plan/hope to predict\n",
    "Screenshots for tableau inspiration\n",
    "Links to code/notebooks for ML inspiration\n",
    "Break down of roles/responsibilities\n",
    "Basic hypotheses, trends\n",
    "Design inspirations - color schemes, fonts, etc.\n",
    "\n",
    "\n",
    "It is preferred that each group takes a different topic, so try and call/get it approved by me or the TAs as soon as you can!\n",
    "\n",
    "Roles and Responsibilities:\n",
    "\n",
    "Who is leading ML? (usually 1 or 2 people)\n",
    "Who is doing Tableau ? (usually 1 or 2 people)\n",
    "Who is leading the website/flask construction? (usually 1 person)\n",
    "Who is leading the writeup/presentation slide deck creation? (usually 1 person)\n",
    "\n",
    "Rough Calendar\n",
    "\n",
    "By EOD 4/21: Project Proposal is due. Dataset is found. Roles are decided. You are ahead if you have loaded your data into Python for basic exploration and understanding. UNDERSTAND YOUR DATA\n",
    "\n",
    "\n",
    "By EOD 4/24: You have cleaned your data in such a way that it can now be loaded into Tableau. You have made a couple of initial vizzes. You have started cleaning/prepping the data for machine learning or perhaps built an initial model. DATASET IS LOCKED\n",
    "\n",
    "\n",
    "By EOD 4/26: Machine Learning is basically done. Tableau is going well - maybe one dashboard is done, working on the second\n",
    "\n",
    "\n",
    "By EOD 4/28: Website/Flask is started. Writeup is started. Tableau has made demonstrable progress. ML is finished and saved (pickled)\n",
    "\n",
    "\n",
    "By EOD 5/1: Website work continues. Tableau is finished and embedded in HTML. Writeup is essentially done. Slide deck is started\n",
    "\n",
    "\n",
    "By EOD 5/3: Final Push. Website is functional if not deployed. Tableau has final tweaks. Writeup is done. Presentation is planned out. I AM BACK and will help to deploy to Heroku.\n",
    "\n",
    "\n",
    "By EOD 5/5: Project Presentations\n",
    "\n",
    "\n",
    "Other Notes:\n",
    "\n",
    "For Tableau, I expect to have at least two dashboards\n",
    "Tableau must be deployed to Tableau Public\n",
    "I recommend you embed Tableau using the Tableau JS API\n",
    "I recommend you download your CSV data from Kaggle. I recommend you do NOT use an API\n",
    "Do not touch a database\n",
    "This is not an ETL project. Focus on the ML and Tableau - not data cleaning\n",
    "Don't be afraid to pursue a complicated topic like NLP or Computer Vision - just know that will take additional time and effort\n",
    "I am not grading individual contributions to GitHub. Use it as a tool to help you keep track of code. Don't use it for Tableau. All code and writeups must be in ONE Github repo by May 5\n",
    "Writeups and Slide deck and Project Proposal need to be uploaded in PDF format\n",
    "I don't care about GitHub ReadMe's - do it if you want but I'm not going to force you\n",
    "I would learn/use JQuery to send the requests to the Flask endpoints\n",
    "\n",
    "THEMING\n",
    "\n",
    "Think about design! Think about art! Think about colors and fonts! Think about user interfaces!\n",
    "I would love to see a full color palette and chosen font style that matches your project\n",
    "I recommend you use Bootswatch as an HTML template (in #04_resources)\n",
    "Feel free to use an external HTML template - just make it consistent\n",
    "\n",
    "I will likely be available sporadically on my phone lol so don't be startled if I randomly ask a question or put an emoji in your chat. Don't use me for advanced technical questions though - but I will be checking in every now and then.\n",
    "\n",
    "Common Projects:\n",
    "\n",
    "Movies\n",
    "Wine\n",
    "Crime\n",
    "WHO Data\n",
    "Census Data\n",
    "Nutrition\n",
    "Sports\n",
    "Baseball\n",
    "Health\n",
    "Covid\n",
    "Spotify/Music\n",
    "Starbucks\n",
    "Earthquakes\n",
    "Stonks :chart_with_upwards_trend:\n",
    "Tweets\n",
    "Dogs\n",
    "Dinosaurs\n",
    "Flowers\n",
    "Computer vision - ResNet\n",
    "\n",
    "Bumping:\n",
    "\n",
    "\n",
    "here are some past projects:\n",
    "\n",
    "https://dallas-crime-smu.herokuapp.com/\n",
    "\n",
    "https://texas-accidents-smu.herokuapp.com/\n",
    "\n",
    "https://smu-2021-capstone-group3.herokuapp.com\n",
    "\n",
    "Here is the GitHub of the Crime Capstone group:\n",
    "\n",
    "https://github.com/alexarnold630/Dallas_Crime_Analysis_and_Prediction/tree/main/Crime\n",
    "\n",
    "I recommend you look at their reports, slide decks, and flask app\n",
    "\n",
    "Here is the car accident's repo. Again, look at the reports and the flask app\n",
    "\n",
    "https://github.com/RyanPerm/Capstone_Final_Project"
   ]
  },
  {
   "cell_type": "markdown",
   "metadata": {},
   "source": [
    "#### Proposal\n"
   ]
  },
  {
   "cell_type": "markdown",
   "metadata": {},
   "source": [
    "### 1) Tableau to guide user insights about this hydrocarbon-rich area of the world"
   ]
  },
  {
   "cell_type": "markdown",
   "metadata": {},
   "source": [
    "##### a) Based on csv(s) already cleaned in ETL project"
   ]
  },
  {
   "cell_type": "code",
   "execution_count": null,
   "metadata": {},
   "outputs": [],
   "source": [
    "##### a) Based on csv(s) already cleaned in ETL project"
   ]
  },
  {
   "cell_type": "code",
   "execution_count": null,
   "metadata": {},
   "outputs": [],
   "source": []
  },
  {
   "cell_type": "markdown",
   "metadata": {},
   "source": [
    "### 2) Machine learning to predict the probability of finding oil based on depth in the subsurface, latitude and longitude provided by the user and deliver a call for action (OPTION 1)"
   ]
  },
  {
   "cell_type": "markdown",
   "metadata": {},
   "source": [
    "##### a) Based on csv(s) already cleaned in ETL project"
   ]
  },
  {
   "cell_type": "code",
   "execution_count": null,
   "metadata": {},
   "outputs": [],
   "source": [
    "##### a) Based on csv(s) already cleaned in ETL project"
   ]
  },
  {
   "cell_type": "code",
   "execution_count": null,
   "metadata": {},
   "outputs": [],
   "source": []
  },
  {
   "cell_type": "code",
   "execution_count": null,
   "metadata": {},
   "outputs": [],
   "source": [
    "#### b) Jupyter Notebook for Machine Learning (may be more than 1)"
   ]
  },
  {
   "cell_type": "code",
   "execution_count": null,
   "metadata": {},
   "outputs": [],
   "source": []
  },
  {
   "cell_type": "code",
   "execution_count": null,
   "metadata": {},
   "outputs": [],
   "source": [
    "import pandas as pd\n",
    "import datetime\n",
    "import time\n",
    "import pickle\n",
    "import numpy as np\n",
    "\n",
    "class ModelHelper():\n",
    "    def __init__(self):\n",
    "        pass\n",
    "\n",
    "    def makePredictions(self, sex_flag, age, fare, familySize, pclass, embarked):\n",
    "        pclass_1 = 0\n",
    "        pclass_2 = 0\n",
    "        pclass_3 = 0\n",
    "\n",
    "        embarked_c = 0\n",
    "        embarked_q = 0\n",
    "        embarked_s = 0\n",
    "\n",
    "        # parse pclass\n",
    "        if (pclass == 1):\n",
    "            pclass_1 = 1\n",
    "        elif (pclass == 2):\n",
    "            pclass_2 = 1\n",
    "        elif (pclass == 3):\n",
    "            pclass_3 = 1\n",
    "        else:\n",
    "            pass\n",
    "\n",
    "        # parse embarked\n",
    "        if (embarked == \"C\"):\n",
    "            embarked_c = 1\n",
    "        elif (embarked == \"Q\"):\n",
    "            embarked_q = 1\n",
    "        elif (embarked == \"S\"):\n",
    "            embarked_s = 1\n",
    "        else:\n",
    "            pass\n",
    "\n",
    "        input_pred = [[sex_flag, age, fare, familySize, pclass_1, pclass_2, pclass_3, embarked_c, embarked_q, embarked_s]]\n",
    "\n",
    "\n",
    "        filename = 'finalized_model.sav'\n",
    "        ada_load = pickle.load(open(filename, 'rb'))\n",
    "\n",
    "        X = np.array(input_pred)\n",
    "        preds = ada_load.predict_proba(X)\n",
    "        preds_singular = ada_load.predict(X)\n",
    "\n",
    "        return preds_singular[0]\n"
   ]
  },
  {
   "cell_type": "markdown",
   "metadata": {},
   "source": [
    "### 3) Full stack web application (flask) hosted on Heroku. This application will be powered by live AI serving customized user prediction. It will also tell an interactive story using Tableau."
   ]
  },
  {
   "cell_type": "markdown",
   "metadata": {},
   "source": [
    "##### a) Flask will be like"
   ]
  },
  {
   "cell_type": "code",
   "execution_count": null,
   "metadata": {},
   "outputs": [],
   "source": [
    "from flask import Flask, render_template, jsonify, send_from_directory, request\n",
    "import json\n",
    "import pandas as pd\n",
    "import numpy as np\n",
    "import os\n",
    "from modelHelper import ModelHelper\n",
    "\n",
    "#init app and class\n",
    "app = Flask(__name__)\n",
    "app.config['SEND_FILE_MAX_AGE_DEFAULT'] = 0\n",
    "modelHelper = ModelHelper()\n",
    "\n",
    "#endpoint\n",
    "# Favicon\n",
    "@app.route('/favicon.ico')\n",
    "def favicon():\n",
    "    return send_from_directory(os.path.join(app.root_path, 'static'),\n",
    "                          'favicon.ico',mimetype='image/vnd.microsoft.icon')\n",
    "\n",
    "# Route to render index.html template\n",
    "@app.route(\"/\")\n",
    "def home():\n",
    "    # Return template and data\n",
    "    return render_template(\"index.html\")\n",
    "\n",
    "@app.route(\"/makePredictions\", methods=[\"POST\"])\n",
    "def makePredictions():\n",
    "    content = request.json[\"data\"]\n",
    "\n",
    "    # parse\n",
    "    sex_flag = int(content[\"sex_flag\"])\n",
    "    age = float(content[\"age\"])\n",
    "    fare = float(content[\"fare\"])\n",
    "    familySize = int(content[\"familySize\"])\n",
    "    p_class = int(content[\"p_class\"])\n",
    "    embarked = content[\"embarked\"]\n",
    "\n",
    "    # #dummy data\n",
    "    # sex_flag = 1\n",
    "    # age = 25\n",
    "    # fare = 25\n",
    "    # familySize = 2\n",
    "    # p_class = 1\n",
    "    # embarked = \"C\"\n",
    "\n",
    "    prediction = modelHelper.makePredictions(sex_flag, age, fare, familySize, p_class, embarked)\n",
    "    print(prediction)\n",
    "    return(jsonify({\"ok\": True, \"prediction\": str(prediction)}))\n",
    "\n",
    "####################################\n",
    "# ADD MORE ENDPOINTS\n",
    "\n",
    "###########################################\n",
    "\n",
    "#############################################################\n",
    "\n",
    "@app.after_request\n",
    "def add_header(r):\n",
    "    \"\"\"\n",
    "    Add headers to both force latest IE rendering engine or Chrome Frame,\n",
    "    and also to cache the rendered page for 10 minutes.\n",
    "    \"\"\"\n",
    "    r.headers['X-UA-Compatible'] = 'IE=Edge,chrome=1'\n",
    "    r.headers[\"Cache-Control\"] = \"no-cache, no-store, must-revalidate, public, max-age=0\"\n",
    "    r.headers[\"Pragma\"] = \"no-cache\"\n",
    "    r.headers[\"Expires\"] = \"0\"\n",
    "    return r\n",
    "\n",
    "#main\n",
    "if __name__ == \"__main__\":\n",
    "    app.run(debug=True)"
   ]
  },
  {
   "cell_type": "markdown",
   "metadata": {},
   "source": [
    "#### b) Contour maps done in mmatplotlib like this"
   ]
  },
  {
   "cell_type": "code",
   "execution_count": null,
   "metadata": {},
   "outputs": [],
   "source": [
    "import pandas as pd\n",
    "import numpy as np\n",
    "data_url = 'https://raw.githubusercontent.com/alexmill/website_notebooks/master/data/data_3d_contour.csv'\n",
    "contour_data = pd.read_csv(data_url)\n",
    "contour_data.head()\n"
   ]
  },
  {
   "cell_type": "markdown",
   "metadata": {},
   "source": [
    "#### c) css will look like these two"
   ]
  },
  {
   "cell_type": "code",
   "execution_count": null,
   "metadata": {},
   "outputs": [],
   "source": [
    "body {\n",
    "  font-family: Arial;\n",
    "  color: white;\n",
    "}\n",
    "\n",
    ".split {\n",
    "  height: 100%;\n",
    "  width: 50%;\n",
    "  position: fixed;\n",
    "  z-index: 1;\n",
    "  top: 0;\n",
    "  overflow-x: hidden;\n",
    "  padding-top: 20px;\n",
    "}\n",
    "\n",
    ".left {\n",
    "  left: 0;\n",
    "  background-color: #111;\n",
    "}\n",
    "\n",
    ".right {\n",
    "  right: 0;\n",
    "  background-color: red;\n",
    "}\n",
    "\n",
    ".centered {\n",
    "  position: absolute;\n",
    "  top: 50%;\n",
    "  left: 50%;\n",
    "  transform: translate(-50%, -50%);\n",
    "  text-align: center;\n",
    "}\n",
    "\n",
    ".centered img {\n",
    "  width: 150px;\n",
    "  border-radius: 50%;\n",
    "}\n",
    "</style>"
   ]
  },
  {
   "cell_type": "code",
   "execution_count": null,
   "metadata": {},
   "outputs": [],
   "source": [
    ".box-set {\n",
    "  position: relative;\n",
    "  height: 450px;\n",
    "  background:  #1a146e;\n",
    "}\n",
    "\n",
    ".box {\n",
    "  /* Absolute Position */\n",
    "  position: absolute;\n",
    "  width: 150px;\n",
    "  height: 150px;\n",
    "  background:  #1a146e;\n",
    "  border: 0px solid white;\n",
    "}\n",
    ".box-1 {\n",
    "  top: 200px;\n",
    "  left: -300px;\n",
    "}\n",
    "\n",
    ".box-2 {\n",
    "  top: 200px;\n",
    "  right: 500px;\n",
    "}\n",
    "\n",
    ".box-3 {\n",
    "  right: 500px;\n",
    "  bottom: -200px;\n",
    "}\n",
    "\n",
    ".box-4 {\n",
    "  bottom: -200px;\n",
    "  left: -300px\n",
    "}\n",
    "      h1 {\n",
    "        text-align: center;\n",
    "        background-color: rgb(223, 235, 234);\n",
    "        color: red;\n",
    "      }\n",
    "      \n",
    "      h2 {\n",
    "        background-color: rgb(25, 236, 236);\n",
    "        color: black;\n",
    "      }\n",
    "      \n",
    "      h3 {\n",
    "        color: rgb(19, 21, 173);\n",
    "      }\n",
    "      \n",
    "      img {\n",
    "        box-shadow: 3px 3px 5px white;\n",
    "      }\n",
    "      \n",
    "      section {\n",
    "        background-color: #000;\n",
    "        color: deeppink\n",
    "      }\n",
    "      \n",
    "      p {\n",
    "        font-size: 15px;\n",
    "        color: gray;\n",
    "      }\n",
    "      \n",
    "      ul {\n",
    "        border-style: solid;\n",
    "        color: gray;\n",
    "      }"
   ]
  },
  {
   "cell_type": "markdown",
   "metadata": {},
   "source": [
    "### javascript will look like this"
   ]
  },
  {
   "cell_type": "code",
   "execution_count": null,
   "metadata": {},
   "outputs": [],
   "source": [
    "$(document).ready(function() {\n",
    "    console.log(\"Page Loaded\");\n",
    "\n",
    "    $(\"#filter\").click(function() {\n",
    "        makePredictions();\n",
    "    });\n",
    "});\n",
    "\n",
    "// call Flask API endpoint\n",
    "function makePredictions() {\n",
    "    var sex_flag = $(\"#gender\").val();\n",
    "    var age = $(\"#age\").val();\n",
    "    var fare = $(\"#fare\").val();\n",
    "    var familySize = $(\"#familySize\").val();\n",
    "    var p_class = $(\"#pclass\").val();\n",
    "    var embarked = $(\"#embarked\").val();\n",
    "\n",
    "    // create the payload\n",
    "    var payload = {\n",
    "        \"sex_flag\": sex_flag,\n",
    "        \"age\": age,\n",
    "        \"fare\": fare,\n",
    "        \"familySize\": familySize,\n",
    "        \"p_class\": p_class,\n",
    "        \"embarked\": embarked\n",
    "    }\n",
    "\n",
    "    // Perform a POST request to the query URL\n",
    "    $.ajax({\n",
    "        type: \"POST\",\n",
    "        url: \"/makePredictions\",\n",
    "        contentType: 'application/json;charset=UTF-8',\n",
    "        data: JSON.stringify({ \"data\": payload }),\n",
    "        success: function(returnedData) {\n",
    "            // print it\n",
    "            console.log(returnedData);\n",
    "\n",
    "            if (returnedData[\"prediction\"] == 1) {\n",
    "                $(\"#output\").text(\"You Survived!\");\n",
    "            } else {\n",
    "                $(\"#output\").text(\"You Died!\");\n",
    "            }\n",
    "        },\n",
    "        error: function(XMLHttpRequest, textStatus, errorThrown) {\n",
    "            alert(\"Status: \" + textStatus);\n",
    "            alert(\"Error: \" + errorThrown);\n",
    "        }\n",
    "    });\n",
    "\n",
    "}\n"
   ]
  },
  {
   "cell_type": "code",
   "execution_count": null,
   "metadata": {},
   "outputs": [],
   "source": []
  },
  {
   "cell_type": "markdown",
   "metadata": {},
   "source": [
    "### 4) Essay about the geological interpretation based on the data"
   ]
  },
  {
   "cell_type": "markdown",
   "metadata": {},
   "source": [
    "##### a) I am familiar with this area and data but still learning as they adapt to new realities and change strategies"
   ]
  },
  {
   "cell_type": "markdown",
   "metadata": {},
   "source": [
    "...\n",
    "blah\n",
    "\n",
    "\n",
    "blah."
   ]
  },
  {
   "cell_type": "markdown",
   "metadata": {},
   "source": [
    "#### Full Analytical Writeup (Optional Executive Summary) + Works Cited"
   ]
  },
  {
   "cell_type": "markdown",
   "metadata": {},
   "source": [
    "### 5) Presentation Slide Deck"
   ]
  },
  {
   "cell_type": "markdown",
   "metadata": {},
   "source": [
    "### 6) Deployment to Heroku"
   ]
  },
  {
   "cell_type": "markdown",
   "metadata": {},
   "source": [
    "#### a) Procfile will look like this"
   ]
  },
  {
   "cell_type": "code",
   "execution_count": 7,
   "metadata": {},
   "outputs": [],
   "source": [
    "web: gunicorn app:app"
   ]
  },
  {
   "cell_type": "markdown",
   "metadata": {},
   "source": [
    "#### b) Requirements.txt will look like this:"
   ]
  },
  {
   "cell_type": "code",
   "execution_count": null,
   "metadata": {},
   "outputs": [],
   "source": [
    "certifi==2020.12.5\n",
    "click==7.1.2\n",
    "Flask==1.1.2\n",
    "gunicorn==20.0.4\n",
    "itsdangerous==1.1.0\n",
    "Jinja2==2.11.3\n",
    "joblib==1.0.1\n",
    "MarkupSafe==1.1.1\n",
    "numpy==1.19.5\n",
    "pandas==1.1.5\n",
    "python-dateutil==2.8.1\n",
    "pytz==2021.1\n",
    "scikit-learn==0.23.2\n",
    "scipy==1.5.4\n",
    "six==1.15.0\n",
    "threadpoolctl==2.1.0\n",
    "Werkzeug==1.0.1\n",
    "wincertstore==0.2\n"
   ]
  },
  {
   "cell_type": "markdown",
   "metadata": {},
   "source": [
    "#### c) Templates will look like this:"
   ]
  },
  {
   "cell_type": "code",
   "execution_count": null,
   "metadata": {},
   "outputs": [],
   "source": [
    "index.html"
   ]
  },
  {
   "cell_type": "markdown",
   "metadata": {},
   "source": [
    "### 7) Upload to github"
   ]
  },
  {
   "cell_type": "code",
   "execution_count": null,
   "metadata": {},
   "outputs": [],
   "source": []
  },
  {
   "cell_type": "code",
   "execution_count": null,
   "metadata": {},
   "outputs": [],
   "source": []
  }
 ],
 "metadata": {
  "kernelspec": {
   "display_name": "Python 3",
   "language": "python",
   "name": "python3"
  },
  "language_info": {
   "codemirror_mode": {
    "name": "ipython",
    "version": 3
   },
   "file_extension": ".py",
   "mimetype": "text/x-python",
   "name": "python",
   "nbconvert_exporter": "python",
   "pygments_lexer": "ipython3",
   "version": "3.9.1"
  }
 },
 "nbformat": 4,
 "nbformat_minor": 5
}
